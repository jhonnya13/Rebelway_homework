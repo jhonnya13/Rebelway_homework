{
 "cells": [
  {
   "cell_type": "code",
   "execution_count": 12,
   "id": "4e644735",
   "metadata": {},
   "outputs": [],
   "source": [
    "import math"
   ]
  },
  {
   "cell_type": "code",
   "execution_count": 13,
   "id": "4ffc147b",
   "metadata": {},
   "outputs": [],
   "source": [
    "maze = [\n",
    "    [1,1,1,1,1,2,1,1,1,1],\n",
    "    [1,0,0,0,0,0,0,0,0,1],\n",
    "    [1,0,1,0,1,1,1,0,0,1],\n",
    "    [1,0,1,0,0,0,0,0,0,1],\n",
    "    [1,0,1,1,1,1,1,1,0,1],\n",
    "    [1,0,0,0,0,0,1,1,0,1],\n",
    "    [1,0,1,1,0,0,1,1,0,1],\n",
    "    [1,1,1,1,3,0,1,1,0,1]\n",
    "]"
   ]
  },
  {
   "cell_type": "code",
   "execution_count": 14,
   "id": "081906aa",
   "metadata": {},
   "outputs": [],
   "source": [
    "def find_start_end(maze):\n",
    "    start = None\n",
    "    end = None\n",
    "    \n",
    "    for i,row in enumerate(maze):\n",
    "        for j, col in enumerate(row):\n",
    "            if col == 3:\n",
    "                start = (i,j)\n",
    "            if col == 2:\n",
    "                end = (i,j)\n",
    "    \n",
    "    return start, end\n"
   ]
  },
  {
   "cell_type": "code",
   "execution_count": 15,
   "id": "9d9bae52",
   "metadata": {},
   "outputs": [],
   "source": [
    "def is_valid_move(maze,visited, row, col):\n",
    "    rows = len(maze)\n",
    "    cols = len(maze[0])\n",
    "    \n",
    "    # This line checks if the row and col values are within the bounds of the maze\n",
    "    if (0 <= row < rows) and (0 <= col < cols) and maze[row][col] != 1 and not visited[row][col]:\n",
    "        return True\n",
    "    return False\n",
    "    \n"
   ]
  },
  {
   "cell_type": "code",
   "execution_count": 18,
   "id": "5f468bb2",
   "metadata": {},
   "outputs": [],
   "source": [
    "def solve_maze(maze,start,end):\n",
    "    # Direction where we can go\n",
    "    directions = [(-1,0),\n",
    "                  (0,1),\n",
    "                  (1,0),\n",
    "                  (0,-1)]\n",
    "    \n",
    "    paths = []\n",
    "    \n",
    "    # same to the maze matrix but filled with zeroes (not visited yet)\n",
    "    visited = [[False for _ in range(len(maze[0]))] for _ in range(len(maze))]\n",
    "    \n",
    "    \n",
    "    def dfs(row,col):\n",
    "        # Base cases:\n",
    "        if (row,col) == end:\n",
    "            paths.append((row,col))\n",
    "            return True\n",
    "        \n",
    "        if is_valid_move(maze,visited,row,col):\n",
    "            visited[row][col] = True\n",
    "            paths.append((row,col))\n",
    "            \n",
    "            for x, y in directions:\n",
    "                if dfs(row + x, col + y):\n",
    "                    return True\n",
    "            paths.pop()\n",
    "            \n",
    "        return False\n",
    "        \n",
    "    start_row, start_col = start\n",
    "    dfs(start_row, start_col)\n",
    "    return paths"
   ]
  },
  {
   "cell_type": "code",
   "execution_count": 19,
   "id": "a52e7399",
   "metadata": {},
   "outputs": [
    {
     "name": "stdout",
     "output_type": "stream",
     "text": [
      "[(7, 4), (6, 4), (5, 4), (5, 3), (5, 2), (5, 1), (4, 1), (3, 1), (2, 1), (1, 1), (1, 2), (1, 3), (1, 4), (1, 5), (0, 5)]\n"
     ]
    }
   ],
   "source": [
    "start,end = find_start_end(maze)\n",
    "solution_paths = solve_maze(maze,start,end)\n",
    "print(solution_paths)"
   ]
  },
  {
   "cell_type": "code",
   "execution_count": null,
   "id": "5148fac6",
   "metadata": {},
   "outputs": [],
   "source": []
  },
  {
   "cell_type": "code",
   "execution_count": null,
   "id": "35783e2c",
   "metadata": {},
   "outputs": [],
   "source": []
  }
 ],
 "metadata": {
  "kernelspec": {
   "display_name": "Python 3 (ipykernel)",
   "language": "python",
   "name": "python3"
  },
  "language_info": {
   "codemirror_mode": {
    "name": "ipython",
    "version": 3
   },
   "file_extension": ".py",
   "mimetype": "text/x-python",
   "name": "python",
   "nbconvert_exporter": "python",
   "pygments_lexer": "ipython3",
   "version": "3.11.7"
  }
 },
 "nbformat": 4,
 "nbformat_minor": 5
}
